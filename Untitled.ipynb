{
 "cells": [
  {
   "cell_type": "code",
   "execution_count": 1,
   "id": "focal-indonesia",
   "metadata": {},
   "outputs": [],
   "source": [
    "import pandas as pd"
   ]
  },
  {
   "cell_type": "code",
   "execution_count": 2,
   "id": "hidden-party",
   "metadata": {},
   "outputs": [
    {
     "name": "stdout",
     "output_type": "stream",
     "text": [
      "eclog_1day.csv\teclog.csv  eclog.zip\r\n"
     ]
    }
   ],
   "source": [
    "!ls datasets/Eclog/"
   ]
  },
  {
   "cell_type": "code",
   "execution_count": 3,
   "id": "unavailable-first",
   "metadata": {},
   "outputs": [
    {
     "name": "stdout",
     "output_type": "stream",
     "text": [
      "IpId,UserId,TimeStamp,HttpMethod,Uri,HttpVersion,ResponseCode,Bytes,Referrer,UserAgent\r",
      "\r\n",
      "1PL,-,637116156000000000,POST,\"/inne/informacja_online.php\",HTTP/1.1,200,0,\"https://shop.our-internet-company.pl/p-5315.html\",\"Mozilla/5.0 (Windows NT 10.0; Win64; x64; rv:71.0) Gecko/20100101 Firefox/71.0\"\r",
      "\r\n",
      "1PL,-,637116156010000000,POST,\"/inne/informacja_online.php\",HTTP/1.1,200,0,\"https://shop.our-internet-company.pl/p-10152.html\",\"Mozilla/5.0 (Windows NT 10.0; Win64; x64; rv:71.0) Gecko/20100101 Firefox/71.0\"\r",
      "\r\n",
      "2NL,-,637116156010000000,GET,\"/wyszukiwanie-query1.html\",HTTP/1.1,200,9018,\"-\",\"Mozilla/5.0 (compatible; SemrushBot/6~bl; +http://www.semrush.com/bot.html)\"\r",
      "\r\n",
      "3PL,-,637116156050000000,POST,\"/inne/informacja_online.php\",HTTP/1.1,200,0,\"https://shop.our-internet-company.pl/p-3008.html\",\"Mozilla/5.0 (Windows NT 10.0; Win64; x64; rv:71.0) Gecko/20100101 Firefox/71.0\"\r",
      "\r\n",
      "4PL,-,637116156050000000,POST,\"/inne/informacja_online.php\",HTTP/1.1,200,0,\"https://shop.our-internet-company.pl/p-9153.html\",\"Mozilla/5.0 (Windows NT 10.0; WOW64) AppleWebKit/537.36 (KHTML, like Gecko) Chrome/78.0.3904.108 Safari/537.36 OPR/65.0.3467.62\"\r",
      "\r\n",
      "5PL,-,637116156050000000,POST,\"/inne/informacja_online.php\",HTTP/1.1,200,0,\"https://shop.our-internet-company.pl/p-8899.html\",\"Mozilla/5.0 (Windows NT 10.0; Win64; x64) AppleWebKit/537.36 (KHTML, like Gecko) Chrome/78.0.3904.108 Safari/537.36\"\r",
      "\r\n",
      "6PL,-,637116156060000000,POST,\"/inne/informacja_online.php\",HTTP/1.1,200,0,\"https://shop.our-internet-company.pl/p-9618.html?gclid=EAIaIQobChMIytHuyOiq5gIVx8YYCh31swcpEAQYBCABEgLrBfD_BwE\",\"Mozilla/5.0 (Windows NT 6.1; Win64; x64) AppleWebKit/537.36 (KHTML, like Gecko) Chrome/78.0.3904.108 Safari/537.36\"\r",
      "\r\n",
      "7PL,-,637116156060000000,POST,\"/inne/informacja_online.php\",HTTP/1.1,200,0,\"https://shop.our-internet-company.pl/p-5259.html?gclid=EAIaIQobChMIgvuM-rmp5gIVlRsYCh34pQ1oEAYYASABEgJFivD_BwE\",\"Mozilla/5.0 (Windows NT 6.1; Win64; x64) AppleWebKit/537.36 (KHTML, like Gecko) Chrome/78.0.3904.108 Safari/537.36\"\r",
      "\r\n",
      "8NL,-,637116156080000000,GET,\"/p-6692.html\",HTTP/1.1,301,0,\"-\",\"Mozilla/5.0 (compatible; SemrushBot/6~bl; +http://www.semrush.com/bot.html)\"\r",
      "\r\n"
     ]
    }
   ],
   "source": [
    "!head datasets/Eclog/eclog_1day.csv"
   ]
  },
  {
   "cell_type": "code",
   "execution_count": 4,
   "id": "bizarre-satisfaction",
   "metadata": {},
   "outputs": [],
   "source": [
    "f_in = open('./datasets/Eclog/eclog_1day.csv', 'r')\n",
    "f_out = open('./datasets/Eclog/eclog_1day_filtered.csv', 'w')"
   ]
  },
  {
   "cell_type": "code",
   "execution_count": null,
   "id": "adjusted-church",
   "metadata": {},
   "outputs": [],
   "source": [
    "i = 100\n",
    "for l in f_in:\n",
    "    IpId,UserId,TimeStamp,HttpMethod,Uri,HttpVersion,ResponseCode,Bytes,Referrer,UserAgent = l.split(\",\")\n",
    "    if Uri.startswith(\"/javascript/\") or Uri.startswith()"
   ]
  }
 ],
 "metadata": {
  "kernelspec": {
   "display_name": "Python 3",
   "language": "python",
   "name": "python3"
  },
  "language_info": {
   "codemirror_mode": {
    "name": "ipython",
    "version": 3
   },
   "file_extension": ".py",
   "mimetype": "text/x-python",
   "name": "python",
   "nbconvert_exporter": "python",
   "pygments_lexer": "ipython3",
   "version": "3.9.2"
  }
 },
 "nbformat": 4,
 "nbformat_minor": 5
}
